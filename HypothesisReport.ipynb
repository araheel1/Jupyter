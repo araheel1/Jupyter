{
 "cells": [
  {
   "cell_type": "markdown",
   "metadata": {},
   "source": [
    "# Hypothesis testing and statistical analysis on UK Census Data"
   ]
  },
  {
   "cell_type": "markdown",
   "metadata": {},
   "source": [
    "## Data Retrieval:"
   ]
  },
  {
   "cell_type": "code",
   "execution_count": 1,
   "metadata": {},
   "outputs": [
    {
     "data": {
      "text/html": [
       "<div>\n",
       "<style scoped>\n",
       "    .dataframe tbody tr th:only-of-type {\n",
       "        vertical-align: middle;\n",
       "    }\n",
       "\n",
       "    .dataframe tbody tr th {\n",
       "        vertical-align: top;\n",
       "    }\n",
       "\n",
       "    .dataframe thead th {\n",
       "        text-align: right;\n",
       "    }\n",
       "</style>\n",
       "<table border=\"1\" class=\"dataframe\">\n",
       "  <thead>\n",
       "    <tr style=\"text-align: right;\">\n",
       "      <th></th>\n",
       "      <th>Unnamed: 0</th>\n",
       "      <th>North East</th>\n",
       "      <th>North West</th>\n",
       "      <th>Yorkshire and The Humber</th>\n",
       "      <th>East Midlands</th>\n",
       "      <th>West Midlands</th>\n",
       "      <th>East of England</th>\n",
       "      <th>London</th>\n",
       "      <th>South East</th>\n",
       "      <th>South West</th>\n",
       "    </tr>\n",
       "  </thead>\n",
       "  <tbody>\n",
       "    <tr>\n",
       "      <td>0</td>\n",
       "      <td>0</td>\n",
       "      <td>27</td>\n",
       "      <td>32</td>\n",
       "      <td>65</td>\n",
       "      <td>60</td>\n",
       "      <td>44</td>\n",
       "      <td>79</td>\n",
       "      <td>43</td>\n",
       "      <td>8</td>\n",
       "      <td>9</td>\n",
       "    </tr>\n",
       "    <tr>\n",
       "      <td>1</td>\n",
       "      <td>1</td>\n",
       "      <td>10</td>\n",
       "      <td>36</td>\n",
       "      <td>40</td>\n",
       "      <td>19</td>\n",
       "      <td>52</td>\n",
       "      <td>46</td>\n",
       "      <td>58</td>\n",
       "      <td>87</td>\n",
       "      <td>40</td>\n",
       "    </tr>\n",
       "    <tr>\n",
       "      <td>2</td>\n",
       "      <td>2</td>\n",
       "      <td>82</td>\n",
       "      <td>53</td>\n",
       "      <td>60</td>\n",
       "      <td>34</td>\n",
       "      <td>2</td>\n",
       "      <td>29</td>\n",
       "      <td>18</td>\n",
       "      <td>46</td>\n",
       "      <td>57</td>\n",
       "    </tr>\n",
       "    <tr>\n",
       "      <td>3</td>\n",
       "      <td>3</td>\n",
       "      <td>33</td>\n",
       "      <td>63</td>\n",
       "      <td>25</td>\n",
       "      <td>60</td>\n",
       "      <td>9</td>\n",
       "      <td>26</td>\n",
       "      <td>30</td>\n",
       "      <td>52</td>\n",
       "      <td>74</td>\n",
       "    </tr>\n",
       "    <tr>\n",
       "      <td>4</td>\n",
       "      <td>4</td>\n",
       "      <td>55</td>\n",
       "      <td>98</td>\n",
       "      <td>4</td>\n",
       "      <td>47</td>\n",
       "      <td>58</td>\n",
       "      <td>37</td>\n",
       "      <td>18</td>\n",
       "      <td>67</td>\n",
       "      <td>19</td>\n",
       "    </tr>\n",
       "    <tr>\n",
       "      <td>...</td>\n",
       "      <td>...</td>\n",
       "      <td>...</td>\n",
       "      <td>...</td>\n",
       "      <td>...</td>\n",
       "      <td>...</td>\n",
       "      <td>...</td>\n",
       "      <td>...</td>\n",
       "      <td>...</td>\n",
       "      <td>...</td>\n",
       "      <td>...</td>\n",
       "    </tr>\n",
       "    <tr>\n",
       "      <td>995</td>\n",
       "      <td>995</td>\n",
       "      <td>42</td>\n",
       "      <td>59</td>\n",
       "      <td>47</td>\n",
       "      <td>37</td>\n",
       "      <td>61</td>\n",
       "      <td>67</td>\n",
       "      <td>29</td>\n",
       "      <td>16</td>\n",
       "      <td>21</td>\n",
       "    </tr>\n",
       "    <tr>\n",
       "      <td>996</td>\n",
       "      <td>996</td>\n",
       "      <td>49</td>\n",
       "      <td>45</td>\n",
       "      <td>16</td>\n",
       "      <td>80</td>\n",
       "      <td>87</td>\n",
       "      <td>86</td>\n",
       "      <td>4</td>\n",
       "      <td>79</td>\n",
       "      <td>74</td>\n",
       "    </tr>\n",
       "    <tr>\n",
       "      <td>997</td>\n",
       "      <td>997</td>\n",
       "      <td>31</td>\n",
       "      <td>5</td>\n",
       "      <td>25</td>\n",
       "      <td>39</td>\n",
       "      <td>52</td>\n",
       "      <td>22</td>\n",
       "      <td>17</td>\n",
       "      <td>8</td>\n",
       "      <td>34</td>\n",
       "    </tr>\n",
       "    <tr>\n",
       "      <td>998</td>\n",
       "      <td>998</td>\n",
       "      <td>38</td>\n",
       "      <td>69</td>\n",
       "      <td>52</td>\n",
       "      <td>4</td>\n",
       "      <td>3</td>\n",
       "      <td>76</td>\n",
       "      <td>24</td>\n",
       "      <td>51</td>\n",
       "      <td>94</td>\n",
       "    </tr>\n",
       "    <tr>\n",
       "      <td>999</td>\n",
       "      <td>999</td>\n",
       "      <td>73</td>\n",
       "      <td>29</td>\n",
       "      <td>59</td>\n",
       "      <td>25</td>\n",
       "      <td>58</td>\n",
       "      <td>43</td>\n",
       "      <td>24</td>\n",
       "      <td>32</td>\n",
       "      <td>0</td>\n",
       "    </tr>\n",
       "  </tbody>\n",
       "</table>\n",
       "<p>1000 rows × 10 columns</p>\n",
       "</div>"
      ],
      "text/plain": [
       "     Unnamed: 0  North East  North West  Yorkshire and The Humber  \\\n",
       "0             0          27          32                        65   \n",
       "1             1          10          36                        40   \n",
       "2             2          82          53                        60   \n",
       "3             3          33          63                        25   \n",
       "4             4          55          98                         4   \n",
       "..          ...         ...         ...                       ...   \n",
       "995         995          42          59                        47   \n",
       "996         996          49          45                        16   \n",
       "997         997          31           5                        25   \n",
       "998         998          38          69                        52   \n",
       "999         999          73          29                        59   \n",
       "\n",
       "     East Midlands  West Midlands  East of England  London  South East  \\\n",
       "0               60             44               79      43           8   \n",
       "1               19             52               46      58          87   \n",
       "2               34              2               29      18          46   \n",
       "3               60              9               26      30          52   \n",
       "4               47             58               37      18          67   \n",
       "..             ...            ...              ...     ...         ...   \n",
       "995             37             61               67      29          16   \n",
       "996             80             87               86       4          79   \n",
       "997             39             52               22      17           8   \n",
       "998              4              3               76      24          51   \n",
       "999             25             58               43      24          32   \n",
       "\n",
       "     South West  \n",
       "0             9  \n",
       "1            40  \n",
       "2            57  \n",
       "3            74  \n",
       "4            19  \n",
       "..          ...  \n",
       "995          21  \n",
       "996          74  \n",
       "997          34  \n",
       "998          94  \n",
       "999           0  \n",
       "\n",
       "[1000 rows x 10 columns]"
      ]
     },
     "execution_count": 1,
     "metadata": {},
     "output_type": "execute_result"
    }
   ],
   "source": [
    "import pandas as pd\n",
    "import random\n",
    "import matplotlib.pyplot as plt\n",
    "pop_df = pd.read_csv('census11sample.csv') # May need to set appropriate non relative path to find data file\n",
    "pop_df"
   ]
  },
  {
   "cell_type": "markdown",
   "metadata": {},
   "source": [
    "## Data Partition:"
   ]
  },
  {
   "cell_type": "code",
   "execution_count": 2,
   "metadata": {},
   "outputs": [
    {
     "data": {
      "text/html": [
       "<div>\n",
       "<style scoped>\n",
       "    .dataframe tbody tr th:only-of-type {\n",
       "        vertical-align: middle;\n",
       "    }\n",
       "\n",
       "    .dataframe tbody tr th {\n",
       "        vertical-align: top;\n",
       "    }\n",
       "\n",
       "    .dataframe thead th {\n",
       "        text-align: right;\n",
       "    }\n",
       "</style>\n",
       "<table border=\"1\" class=\"dataframe\">\n",
       "  <thead>\n",
       "    <tr style=\"text-align: right;\">\n",
       "      <th></th>\n",
       "      <th>North East</th>\n",
       "      <th>North West</th>\n",
       "      <th>Yorkshire and The Humber</th>\n",
       "      <th>East Midlands</th>\n",
       "      <th>West Midlands</th>\n",
       "      <th>East of England</th>\n",
       "      <th>London</th>\n",
       "      <th>South East</th>\n",
       "      <th>South West</th>\n",
       "    </tr>\n",
       "  </thead>\n",
       "  <tbody>\n",
       "    <tr>\n",
       "      <td>0</td>\n",
       "      <td>27</td>\n",
       "      <td>32</td>\n",
       "      <td>65</td>\n",
       "      <td>60</td>\n",
       "      <td>44</td>\n",
       "      <td>79</td>\n",
       "      <td>43</td>\n",
       "      <td>8</td>\n",
       "      <td>9</td>\n",
       "    </tr>\n",
       "    <tr>\n",
       "      <td>1</td>\n",
       "      <td>10</td>\n",
       "      <td>36</td>\n",
       "      <td>40</td>\n",
       "      <td>19</td>\n",
       "      <td>52</td>\n",
       "      <td>46</td>\n",
       "      <td>58</td>\n",
       "      <td>87</td>\n",
       "      <td>40</td>\n",
       "    </tr>\n",
       "    <tr>\n",
       "      <td>2</td>\n",
       "      <td>82</td>\n",
       "      <td>53</td>\n",
       "      <td>60</td>\n",
       "      <td>34</td>\n",
       "      <td>2</td>\n",
       "      <td>29</td>\n",
       "      <td>18</td>\n",
       "      <td>46</td>\n",
       "      <td>57</td>\n",
       "    </tr>\n",
       "    <tr>\n",
       "      <td>3</td>\n",
       "      <td>33</td>\n",
       "      <td>63</td>\n",
       "      <td>25</td>\n",
       "      <td>60</td>\n",
       "      <td>9</td>\n",
       "      <td>26</td>\n",
       "      <td>30</td>\n",
       "      <td>52</td>\n",
       "      <td>74</td>\n",
       "    </tr>\n",
       "    <tr>\n",
       "      <td>4</td>\n",
       "      <td>55</td>\n",
       "      <td>98</td>\n",
       "      <td>4</td>\n",
       "      <td>47</td>\n",
       "      <td>58</td>\n",
       "      <td>37</td>\n",
       "      <td>18</td>\n",
       "      <td>67</td>\n",
       "      <td>19</td>\n",
       "    </tr>\n",
       "    <tr>\n",
       "      <td>...</td>\n",
       "      <td>...</td>\n",
       "      <td>...</td>\n",
       "      <td>...</td>\n",
       "      <td>...</td>\n",
       "      <td>...</td>\n",
       "      <td>...</td>\n",
       "      <td>...</td>\n",
       "      <td>...</td>\n",
       "      <td>...</td>\n",
       "    </tr>\n",
       "    <tr>\n",
       "      <td>995</td>\n",
       "      <td>42</td>\n",
       "      <td>59</td>\n",
       "      <td>47</td>\n",
       "      <td>37</td>\n",
       "      <td>61</td>\n",
       "      <td>67</td>\n",
       "      <td>29</td>\n",
       "      <td>16</td>\n",
       "      <td>21</td>\n",
       "    </tr>\n",
       "    <tr>\n",
       "      <td>996</td>\n",
       "      <td>49</td>\n",
       "      <td>45</td>\n",
       "      <td>16</td>\n",
       "      <td>80</td>\n",
       "      <td>87</td>\n",
       "      <td>86</td>\n",
       "      <td>4</td>\n",
       "      <td>79</td>\n",
       "      <td>74</td>\n",
       "    </tr>\n",
       "    <tr>\n",
       "      <td>997</td>\n",
       "      <td>31</td>\n",
       "      <td>5</td>\n",
       "      <td>25</td>\n",
       "      <td>39</td>\n",
       "      <td>52</td>\n",
       "      <td>22</td>\n",
       "      <td>17</td>\n",
       "      <td>8</td>\n",
       "      <td>34</td>\n",
       "    </tr>\n",
       "    <tr>\n",
       "      <td>998</td>\n",
       "      <td>38</td>\n",
       "      <td>69</td>\n",
       "      <td>52</td>\n",
       "      <td>4</td>\n",
       "      <td>3</td>\n",
       "      <td>76</td>\n",
       "      <td>24</td>\n",
       "      <td>51</td>\n",
       "      <td>94</td>\n",
       "    </tr>\n",
       "    <tr>\n",
       "      <td>999</td>\n",
       "      <td>73</td>\n",
       "      <td>29</td>\n",
       "      <td>59</td>\n",
       "      <td>25</td>\n",
       "      <td>58</td>\n",
       "      <td>43</td>\n",
       "      <td>24</td>\n",
       "      <td>32</td>\n",
       "      <td>0</td>\n",
       "    </tr>\n",
       "  </tbody>\n",
       "</table>\n",
       "<p>1000 rows × 9 columns</p>\n",
       "</div>"
      ],
      "text/plain": [
       "     North East  North West  Yorkshire and The Humber  East Midlands  \\\n",
       "0            27          32                        65             60   \n",
       "1            10          36                        40             19   \n",
       "2            82          53                        60             34   \n",
       "3            33          63                        25             60   \n",
       "4            55          98                         4             47   \n",
       "..          ...         ...                       ...            ...   \n",
       "995          42          59                        47             37   \n",
       "996          49          45                        16             80   \n",
       "997          31           5                        25             39   \n",
       "998          38          69                        52              4   \n",
       "999          73          29                        59             25   \n",
       "\n",
       "     West Midlands  East of England  London  South East  South West  \n",
       "0               44               79      43           8           9  \n",
       "1               52               46      58          87          40  \n",
       "2                2               29      18          46          57  \n",
       "3                9               26      30          52          74  \n",
       "4               58               37      18          67          19  \n",
       "..             ...              ...     ...         ...         ...  \n",
       "995             61               67      29          16          21  \n",
       "996             87               86       4          79          74  \n",
       "997             52               22      17           8          34  \n",
       "998              3               76      24          51          94  \n",
       "999             58               43      24          32           0  \n",
       "\n",
       "[1000 rows x 9 columns]"
      ]
     },
     "execution_count": 2,
     "metadata": {},
     "output_type": "execute_result"
    }
   ],
   "source": [
    "pop_df = pop_df.drop([\"Unnamed: 0\"], axis=1)\n",
    "pop_df"
   ]
  },
  {
   "cell_type": "markdown",
   "metadata": {},
   "source": [
    "<h3> Dividing data - I intend to take a systematic random sample of the data; this is obtained by generating a random starting value n and increment i, then selecting every 'ith' value to form a new data set df1, which is used for hypothesis exploring and generation, with the remaining data placed into a data set df2 for hypothesis testing (note the code comments below). <h3>"
   ]
  },
  {
   "cell_type": "code",
   "execution_count": 3,
   "metadata": {},
   "outputs": [],
   "source": [
    "random_n = random.randint(0, 1000)\n",
    "random_i = random.randint(1, 101)\n",
    "if random_i == random_n:\n",
    "    random_i += 1\n",
    "df1 = pd.DataFrame(columns=[\"North East\", \"North West\", \"Yorkshire and The Humber\", \"East Midlands\", \"West Midlands\", \"East of England\", \"London\", \"South East\", \"South West\"])\n",
    "df2 = pd.DataFrame(columns=[\"North East\", \"North West\", \"Yorkshire and The Humber\", \"East Midlands\", \"West Midlands\", \"East of England\", \"London\", \"South East\", \"South West\"])\n",
    "x = 0\n",
    "vals = []\n",
    "while(x < 500):\n",
    "    scaled_n = random_n%1000\n",
    "    while scaled_n in vals: # Preventing appearance of duplicate data\n",
    "        scaled_n += 1\n",
    "        scaled_n = scaled_n % 1000\n",
    "    df1 = df1.append(pop_df.iloc[scaled_n])\n",
    "    random_n += random_i\n",
    "    x += 1\n",
    "    vals += [scaled_n] # Track previously encountered indices\n",
    "    \n",
    "for x in ([z for z in range(1000) if z not in vals]):\n",
    "    df2 = df2.append(pop_df.iloc[x]) \n",
    "    \n",
    "# The data sets should now:\n",
    "# - Combine to form the original data set, with no overlapping data (i.e. they form a partition of the original data)\n",
    "# - Possess randomly sampled data from the original set, partitioned to prevent bias from exploration to testing\n",
    "# - Be of equal size"
   ]
  },
  {
   "cell_type": "markdown",
   "metadata": {},
   "source": [
    "## Data Exploration:"
   ]
  },
  {
   "cell_type": "markdown",
   "metadata": {},
   "source": [
    "<h3> We begin by forming scatter plots displaying ages of individuals in various regions: </h3>"
   ]
  },
  {
   "cell_type": "code",
   "execution_count": 39,
   "metadata": {},
   "outputs": [
    {
     "data": {
      "text/plain": [
       "Text(0.5, 1.0, 'Ages of people in London')"
      ]
     },
     "execution_count": 39,
     "metadata": {},
     "output_type": "execute_result"
    },
    {
     "data": {
      "image/png": "[encoded data removed]",
      "text/plain": [
       "<Figure size 1080x432 with 1 Axes>"
      ]
     },
     "metadata": {
      "needs_background": "light"
     },
     "output_type": "display_data"
    }
   ],
   "source": [
    "df_ldn = pd.DataFrame(pd.value_counts(df1[\"London\"].values))\n",
    "df.index.name = \"Age\"\n",
    "df.sort_index(inplace=True)\n",
    "\n",
    "fig, ax = plt.subplots(figsize=(15,6))\n",
    "\n",
    "ax.scatter(df_ldn.index,df_ldn[0],marker='.', s=100, c='r')\n",
    "ax.set_xlabel('LDN Ages')\n",
    "ax.set_ylabel('Frequency')\n",
    "ax.grid(True)\n",
    "plt.title('Ages of people in London')\n"
   ]
  },
  {
   "cell_type": "code",
   "execution_count": 31,
   "metadata": {},
   "outputs": [
    {
     "name": "stdout",
     "output_type": "stream",
     "text": [
      "     0\n",
      "18  12\n",
      "14  11\n",
      "42  11\n",
      "39  10\n",
      "4   10\n",
      "..  ..\n",
      "92   1\n",
      "93   1\n",
      "81   1\n",
      "2    1\n",
      "98   1\n",
      "\n",
      "[94 rows x 1 columns]\n"
     ]
    },
    {
     "data": {
      "image/png": "[encoded data removed]",
      "text/plain": [
       "<Figure size 1080x432 with 1 Axes>"
      ]
     },
     "metadata": {
      "needs_background": "light"
     },
     "output_type": "display_data"
    }
   ],
   "source": [
    "df_nw = pd.DataFrame(pd.value_counts(df1[\"North West\"].values))\n",
    "df_nw\n",
    "fig, ax = plt.subplots(figsize=(15,6))\n",
    "\n",
    "ax.scatter(df_nw.index,df_nw[0],marker='.', s=100, c='r')\n",
    "ax.set_xlabel('NW Ages')\n",
    "ax.set_ylabel('Frequency')\n",
    "ax.grid(True)\n",
    "plt.title('Ages of people in the North West')\n",
    "print(df_nw)"
   ]
  },
  {
   "cell_type": "code",
   "execution_count": 6,
   "metadata": {},
   "outputs": [
    {
     "data": {
      "text/plain": [
       "Text(0.5, 1.0, 'Ages of people in the North East')"
      ]
     },
     "execution_count": 6,
     "metadata": {},
     "output_type": "execute_result"
    },
    {
     "data": {
      "image/png": "[encoded data removed]",
      "text/plain": [
       "<Figure size 1080x432 with 1 Axes>"
      ]
     },
     "metadata": {
      "needs_background": "light"
     },
     "output_type": "display_data"
    }
   ],
   "source": [
    "df_ne = pd.DataFrame(pd.value_counts(df1[\"North East\"].values))\n",
    "df_ne = df_ne.dropna()\n",
    "\n",
    "fg, az = plt.subplots(figsize=(15,6))\n",
    "\n",
    "az.scatter(df_ne.index,df_ne[0],marker='.', s=100, c='r')\n",
    "az.set_xlabel('NE Ages')\n",
    "az.set_ylabel('Frequency')\n",
    "az.grid(True)\n",
    "plt.title('Ages of people in the North East')"
   ]
  },
  {
   "cell_type": "code",
   "execution_count": 38,
   "metadata": {},
   "outputs": [
    {
     "data": {
      "text/plain": [
       "Text(0.5, 1.0, 'Ages of people in England')"
      ]
     },
     "execution_count": 38,
     "metadata": {},
     "output_type": "execute_result"
    },
    {
     "data": {
      "image/png": "[encoded data removed]",
      "text/plain": [
       "<Figure size 1080x432 with 1 Axes>"
      ]
     },
     "metadata": {
      "needs_background": "light"
     },
     "output_type": "display_data"
    }
   ],
   "source": [
    "df_temp = []\n",
    "for x in df1.values:\n",
    "    for y in x:\n",
    "        df_temp.append(y)\n",
    "df_agg = pd.DataFrame(pd.value_counts(df_temp))\n",
    "\n",
    "fg, az = plt.subplots(figsize=(15,6))\n",
    "\n",
    "az.scatter(df_agg.index,df_agg[0],marker='.', s=100, c='r')\n",
    "az.set_xlabel('England Ages')\n",
    "az.set_ylabel('Frequency')\n",
    "az.grid(True)\n",
    "plt.title('Ages of people in England')"
   ]
  },
  {
   "cell_type": "markdown",
   "metadata": {},
   "source": [
    "<h3> We observe from the above graphics for a few select regions (NW, NE and LDN) (and then attempt to observe from a plot for the entirity of England) that the age data peaks around the middle of the possible value set (~ 40 years old) i.e. there exists a central tendency of the data set and the data appears to tail off at each end i.e. age data is a naturally occuring example of normally distributed data (a fact that can be used in testing later). <h3>\n",
    "    \n",
    "<h3> We go on to measure some descriptive statistics for all regions given in order to observe a trend in the data to form a testible hypothesis: <h3>"
   ]
  },
  {
   "cell_type": "code",
   "execution_count": 13,
   "metadata": {},
   "outputs": [],
   "source": [
    "import numpy as np\n",
    "def desc_stats(val, frq):\n",
    "    val = np.array(val)\n",
    "    frq = np.array(frq)\n",
    "    val_sort = np.argsort(val)\n",
    "    val = val[val_sort]\n",
    "    frq = frq[val_sort] # Using sorted arrays for efficiency in later calculations\n",
    "    tot = frq.sum()\n",
    "    sum_stat = val * frq\n",
    "    mean = sum_stat.sum() / tot\n",
    "    var = ((frq * val**2).sum() / tot) - mean**2\n",
    "    var = tot / (tot - 1) * var  # population variance correction for sample variance\n",
    "    std = np.sqrt(var)\n",
    "    min_val = np.min(val)\n",
    "    max_val = np.max(val)\n",
    "    cc = np.cumsum(frq)\n",
    "    Q1 = val[np.searchsorted(cc, 0.25*tot)]\n",
    "    Q2 = val[np.searchsorted(cc, 0.50*tot)]\n",
    "    Q3 = val[np.searchsorted(cc, 0.75*tot)]\n",
    "    idx = ['count', 'mean', 'std', 'min', '25%', '50%', '75%', 'max']\n",
    "    res = pd.Series([tot, mean, std, min_val, Q1, Q2, Q3, max_val], index=idx)\n",
    "    return str(res)+\"\\n\""
   ]
  },
  {
   "cell_type": "code",
   "execution_count": 8,
   "metadata": {},
   "outputs": [
    {
     "name": "stdout",
     "output_type": "stream",
     "text": [
      "NW: \n",
      "count    500.000000\n",
      "mean      39.618000\n",
      "std       23.499458\n",
      "min        0.000000\n",
      "25%       19.000000\n",
      "50%       40.000000\n",
      "75%       57.000000\n",
      "max       98.000000\n",
      "dtype: float64\n",
      "\n",
      "NE: \n",
      "count    500.000000\n",
      "mean      40.346000\n",
      "std       23.739955\n",
      "min        0.000000\n",
      "25%       21.000000\n",
      "50%       40.000000\n",
      "75%       59.000000\n",
      "max       94.000000\n",
      "dtype: float64\n",
      "\n",
      "SW: \n",
      "count    500.000000\n",
      "mean      43.750000\n",
      "std       24.852823\n",
      "min        0.000000\n",
      "25%       22.000000\n",
      "50%       44.000000\n",
      "75%       62.000000\n",
      "max       98.000000\n",
      "dtype: float64\n",
      "\n",
      "SE: \n",
      "count    500.00000\n",
      "mean      39.68000\n",
      "std       23.28833\n",
      "min        0.00000\n",
      "25%       20.00000\n",
      "50%       41.00000\n",
      "75%       58.00000\n",
      "max       93.00000\n",
      "dtype: float64\n",
      "\n",
      "LDN: \n",
      "count    500.000000\n",
      "mean      36.134000\n",
      "std       21.761507\n",
      "min        0.000000\n",
      "25%       19.000000\n",
      "50%       34.000000\n",
      "75%       52.000000\n",
      "max       92.000000\n",
      "dtype: float64\n",
      "\n",
      "YRK: \n",
      "count    500.000000\n",
      "mean      38.504000\n",
      "std       22.665689\n",
      "min        0.000000\n",
      "25%       20.000000\n",
      "50%       39.000000\n",
      "75%       54.000000\n",
      "max       94.000000\n",
      "dtype: float64\n",
      "\n",
      "EoE: \n",
      "count    500.000000\n",
      "mean      41.808000\n",
      "std       23.047984\n",
      "min        0.000000\n",
      "25%       24.000000\n",
      "50%       42.000000\n",
      "75%       60.000000\n",
      "max       96.000000\n",
      "dtype: float64\n",
      "\n",
      "EM: \n",
      "count    500.000000\n",
      "mean      38.630000\n",
      "std       23.761615\n",
      "min        0.000000\n",
      "25%       18.000000\n",
      "50%       36.000000\n",
      "75%       58.000000\n",
      "max       90.000000\n",
      "dtype: float64\n",
      "\n",
      "WM: \n",
      "count    500.000000\n",
      "mean      39.432000\n",
      "std       23.809813\n",
      "min        0.000000\n",
      "25%       18.000000\n",
      "50%       39.000000\n",
      "75%       58.000000\n",
      "max       96.000000\n",
      "dtype: float64\n",
      "\n"
     ]
    }
   ],
   "source": [
    "#print(df1[\"South West\"])\n",
    "print(\"NW: \\n\" + desc_stats(pd.value_counts(df1[\"North West\"].values).reset_index()[\"index\"], pd.value_counts(df1[\"North West\"].values).reset_index()[0]))\n",
    "print(\"NE: \\n\" + desc_stats(pd.value_counts(df1[\"North East\"].values).reset_index()[\"index\"], pd.value_counts(df1[\"North East\"].values).reset_index()[0]))\n",
    "print(\"SW: \\n\" + desc_stats(pd.value_counts(df1[\"South West\"].values).reset_index()[\"index\"], pd.value_counts(df1[\"South West\"].values).reset_index()[0]))\n",
    "print(\"SE: \\n\" + desc_stats(pd.value_counts(df1[\"South East\"].values).reset_index()[\"index\"], pd.value_counts(df1[\"South East\"].values).reset_index()[0]))\n",
    "print(\"LDN: \\n\" + desc_stats(pd.value_counts(df1[\"London\"].values).reset_index()[\"index\"], pd.value_counts(df1[\"London\"].values).reset_index()[0]))\n",
    "print(\"YRK: \\n\" + desc_stats(pd.value_counts(df1[\"Yorkshire and The Humber\"].values).reset_index()[\"index\"], pd.value_counts(df1[\"Yorkshire and The Humber\"].values).reset_index()[0]))\n",
    "print(\"EoE: \\n\" + desc_stats(pd.value_counts(df1[\"East of England\"].values).reset_index()[\"index\"], pd.value_counts(df1[\"East of England\"].values).reset_index()[0]))\n",
    "print(\"EM: \\n\" + desc_stats(pd.value_counts(df1[\"East Midlands\"].values).reset_index()[\"index\"], pd.value_counts(df1[\"East Midlands\"].values).reset_index()[0]))\n",
    "print(\"WM: \\n\" + desc_stats(pd.value_counts(df1[\"West Midlands\"].values).reset_index()[\"index\"], pd.value_counts(df1[\"West Midlands\"].values).reset_index()[0]))\n"
   ]
  },
  {
   "cell_type": "markdown",
   "metadata": {},
   "source": [
    "<h3> We use our findings in this data exploration stage to form and justify a hypothesis below: </h3>"
   ]
  },
  {
   "cell_type": "markdown",
   "metadata": {},
   "source": [
    "## Hypothesis and Justifying Evidence:"
   ]
  },
  {
   "cell_type": "markdown",
   "metadata": {},
   "source": [
    "<h3> We gather our data and obervations to form the following hypothesis: \"The ages of individuals on average in the West section of England is greater than in the East.\" </h3>\n",
    "\n",
    "<h3> Our above descriptive statistics communicate that both the mean and 50% value (median) for both the West Midlands and the South West are greater than their respective Eastern counterparts. Given this, plus London (an Eastern region) having a significantly lower average age than any other region (plus other statistical points above) we have a reasonable quantity of evidence to form such a hypothesis as above.</h3>"
   ]
  },
  {
   "cell_type": "markdown",
   "metadata": {},
   "source": [
    "## Formalisation and Test to Conduct:"
   ]
  },
  {
   "cell_type": "markdown",
   "metadata": {},
   "source": [
    "<h3> Null hypothesis (H0): \"The ages of individuals on average in the West section of England (Aw) is not different to those in the East (Ae) i.e. Aw = Ae.\"</h3>\n",
    "\n",
    "<h3> Alternative hypothesis (H1): \"The ages of individuals on average in the West section of England (Aw) is greater than in the East (Ae) i.e. Aw > Ae\" </h3>\n",
    "\n",
    "<h3> Probability level (alpha) = 10% (0.1) </h3>\n",
    "\n",
    "<h3> I aim to conduct a one-tailed Z test to tell if the probability of the null hypothesis holding is greater than alpha (i.e. Prob(H0) > 0.1 so test is not statistically significant) or less than alpha (i.e. Prob(H0) < 0.1 so test is statistically significant and we can rule out H0 in favour of observed hypothesis H1) </h3>\n",
    "\n",
    "<h3> The \"East section of England\" encompasses the following regions: North East, South East, East Midlands, Yorkshire and the Humber, East of England and London </h3>\n",
    "\n",
    "<h3> The \"West section of England\" encompasses the following regions: North West, South West, West Midlands </h3>"
   ]
  },
  {
   "cell_type": "markdown",
   "metadata": {},
   "source": [
    "## Hypothesis Testing:"
   ]
  },
  {
   "cell_type": "markdown",
   "metadata": {},
   "source": [
    "<h3>  Measure descriptive stats for East and West of England, in particular to perform a Z test to compare the two distributions formed by the data for each region (using test set df2 generated earlier): </h3>"
   ]
  },
  {
   "cell_type": "code",
   "execution_count": 45,
   "metadata": {
    "scrolled": true
   },
   "outputs": [
    {
     "name": "stdout",
     "output_type": "stream",
     "text": [
      "Mean age of the East: 39.358\n",
      "Standard Dist. of age of the East: 23.205473506629623\n",
      "East count: 3000\n",
      "\n",
      "\n",
      "Mean age of the West: 40.797333333333334\n",
      "Standard Dist. of age of the West: 23.50229417404148\n",
      "West count: 1500\n",
      "\n",
      "\n",
      "Z test value: 1.9448025733291514\n"
     ]
    }
   ],
   "source": [
    "df_east = pd.concat([df2[\"North East\"],df2[\"South East\"],df2[\"East Midlands\"],df2[\"Yorkshire and The Humber\"],df2[\"East of England\"],df2[\"London\"]], ignore_index=True, sort=False)\n",
    "#print(\"E: \\n\" + desc_stats(pd.value_counts(dfs1.values).reset_index()[\"index\"], pd.value_counts(dfs1.values).reset_index()[0]))\n",
    "v1 = pd.value_counts(df_east.values).reset_index()[\"index\"]\n",
    "v2 = pd.value_counts(df_east.values).reset_index()[0]\n",
    "values1 = np.array(v1)\n",
    "freqs1 = np.array(v2)\n",
    "arg_sorted1 = np.argsort(values1)\n",
    "values1 = values1[arg_sorted1]\n",
    "freqs1 = freqs1[arg_sorted1]\n",
    "count1 = freqs1.sum()\n",
    "fx1 = values1 * freqs1\n",
    "mean1 = fx1.sum() / count1\n",
    "variance1 = ((freqs1 * values1**2).sum() / count1) - mean1**2\n",
    "variance1 = count1 / (count1 - 1) * variance1\n",
    "std1 = np.sqrt(variance1)\n",
    "\n",
    "\n",
    "\n",
    "df_west = pd.concat([df2[\"South West\"],df2[\"North West\"],df2[\"West Midlands\"]], ignore_index=True, sort=False)\n",
    "#print(\"E: \\n\" + desc_stats(pd.value_counts(dfn1.values).reset_index()[\"index\"], pd.value_counts(dfn1.values).reset_index()[0]))\n",
    "m1 = pd.value_counts(df_west.values).reset_index()[\"index\"]\n",
    "m2 = pd.value_counts(df_west.values).reset_index()[0]\n",
    "values2 = np.array(m1)\n",
    "freqs2 = np.array(m2)\n",
    "arg_sorted2 = np.argsort(values2)\n",
    "values2 = values2[arg_sorted2]\n",
    "freqs2 = freqs2[arg_sorted2]\n",
    "count2 = freqs2.sum()\n",
    "fx2 = values2 * freqs2\n",
    "mean2 = fx2.sum() / count2\n",
    "variance2 = ((freqs2 * values2**2).sum() / count2) - mean2**2\n",
    "variance2 = count2 / (count2 - 1) * variance2\n",
    "std2 = np.sqrt(variance2)\n",
    "\n",
    "print(\"Mean age of the East: \" +str(mean1))\n",
    "print(\"Standard Dist. of age of the East: \" +str(std1))\n",
    "print(\"East count: \"+str(count1))\n",
    "print(\"\\n\")\n",
    "print(\"Mean age of the West: \" +str(mean2))\n",
    "print(\"Standard Dist. of age of the West: \" +str(std2))\n",
    "print(\"West count: \"+str(count2))\n",
    "\n",
    "z = (mean2 - mean1)/np.sqrt( (std2/np.sqrt(count2))**2 + (std1/np.sqrt(count1))**2) # Difference in means divided by root of sum of squares of SEMs (standard formula)\n",
    "print(\"\\n\")\n",
    "print(\"Z test value: \" + str(z))"
   ]
  },
  {
   "cell_type": "code",
   "execution_count": 46,
   "metadata": {},
   "outputs": [
    {
     "data": {
      "image/png": "[encoded data removed]",
      "text/plain": [
       "<Figure size 432x288 with 1 Axes>"
      ]
     },
     "metadata": {
      "needs_background": "light"
     },
     "output_type": "display_data"
    },
    {
     "name": "stdout",
     "output_type": "stream",
     "text": [
      "Z test value: 1.9448025733291514\n",
      "The 10.00 percent critical value is 1.28\n"
     ]
    }
   ],
   "source": [
    "from scipy import stats\n",
    "from scipy.stats import norm # methods for working with a normal distribution\n",
    "alpha=0.1\n",
    "critical_value = norm.ppf(1-alpha,0,1) # the inverse CDF\n",
    "#alpha = 0.1\n",
    "mu = 0\n",
    "sgm = 1\n",
    "lower = stats.norm.ppf(alpha,mu,sgm)\n",
    "upper = stats.norm.ppf(1-alpha,mu,sgm)\n",
    "x=np.arange(-3,3,0.05)\n",
    "y=stats.norm.pdf(x,mu,sgm) \n",
    "\n",
    "plt.plot(x,y)\n",
    "plt.plot([lower,lower],[0,0.3],label=\"Lower tail\")\n",
    "plt.plot([upper,upper],[0,0.3],label=\"Upper tail\")\n",
    "plt.legend()\n",
    "plt.title(\"Lower and upper critical values are %2.2f %2.2f\" %(lower,upper))\n",
    "plt.show()\n",
    "\n",
    "print(\"Z test value: \" + str(z))\n",
    "print(\"The %2.2f percent critical value is %2.2f\" %(alpha*100,critical_value))"
   ]
  },
  {
   "cell_type": "markdown",
   "metadata": {},
   "source": [
    "## Conclusions:"
   ]
  },
  {
   "cell_type": "markdown",
   "metadata": {},
   "source": [
    "<h3> Using the one tailed Z test method, I have found that the calculated Z value for the above test falls into the critical region, thus the null hypothesis H0 is ruled out at the 10 percent probability level. </h3>"
   ]
  }
 ],
 "metadata": {
  "kernelspec": {
   "display_name": "Python 3",
   "language": "python",
   "name": "python3"
  },
  "language_info": {
   "codemirror_mode": {
    "name": "ipython",
    "version": 3
   },
   "file_extension": ".py",
   "mimetype": "text/x-python",
   "name": "python",
   "nbconvert_exporter": "python",
   "pygments_lexer": "ipython3",
   "version": "3.7.4"
  }
 },
 "nbformat": 4,
 "nbformat_minor": 4
}
